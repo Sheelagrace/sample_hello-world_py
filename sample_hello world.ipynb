{
 "cells": [
  {
   "cell_type": "markdown",
   "id": "23bb9285",
   "metadata": {},
   "source": [
    "### print Hello World"
   ]
  },
  {
   "cell_type": "code",
   "execution_count": 1,
   "id": "08d5d9b1",
   "metadata": {
    "scrolled": true
   },
   "outputs": [
    {
     "name": "stdout",
     "output_type": "stream",
     "text": [
      "Hello World\n"
     ]
    }
   ],
   "source": [
    "print(\"Hello World\")"
   ]
  },
  {
   "cell_type": "markdown",
   "id": "48548c92",
   "metadata": {},
   "source": [
    "### Printing my name"
   ]
  },
  {
   "cell_type": "code",
   "execution_count": 2,
   "id": "cd2fea81",
   "metadata": {},
   "outputs": [
    {
     "name": "stdout",
     "output_type": "stream",
     "text": [
      "Sheela Grace\n"
     ]
    }
   ],
   "source": [
    "print(\"Sheela Grace\")"
   ]
  },
  {
   "cell_type": "code",
   "execution_count": 3,
   "id": "1e587f8a",
   "metadata": {},
   "outputs": [
    {
     "name": "stdout",
     "output_type": "stream",
     "text": [
      "Sheela Grace\n"
     ]
    }
   ],
   "source": [
    "print('Sheela Grace')"
   ]
  },
  {
   "cell_type": "code",
   "execution_count": 4,
   "id": "392cfe6b",
   "metadata": {},
   "outputs": [
    {
     "ename": "SyntaxError",
     "evalue": "invalid syntax. Perhaps you forgot a comma? (227236982.py, line 1)",
     "output_type": "error",
     "traceback": [
      "\u001b[1;36m  Cell \u001b[1;32mIn[4], line 1\u001b[1;36m\u001b[0m\n\u001b[1;33m    print(Sheela Grace)\u001b[0m\n\u001b[1;37m          ^\u001b[0m\n\u001b[1;31mSyntaxError\u001b[0m\u001b[1;31m:\u001b[0m invalid syntax. Perhaps you forgot a comma?\n"
     ]
    }
   ],
   "source": [
    "print(Sheela Grace)"
   ]
  },
  {
   "cell_type": "code",
   "execution_count": 5,
   "id": "651d0f06",
   "metadata": {},
   "outputs": [
    {
     "name": "stdout",
     "output_type": "stream",
     "text": [
      "4\n"
     ]
    }
   ],
   "source": [
    "print(4)"
   ]
  },
  {
   "cell_type": "code",
   "execution_count": 6,
   "id": "478137ff",
   "metadata": {},
   "outputs": [
    {
     "name": "stdout",
     "output_type": "stream",
     "text": [
      "1.5\n"
     ]
    }
   ],
   "source": [
    "print(1.5)"
   ]
  },
  {
   "cell_type": "code",
   "execution_count": null,
   "id": "502d9a25",
   "metadata": {},
   "outputs": [],
   "source": []
  }
 ],
 "metadata": {
  "kernelspec": {
   "display_name": "Python 3 (ipykernel)",
   "language": "python",
   "name": "python3"
  },
  "language_info": {
   "codemirror_mode": {
    "name": "ipython",
    "version": 3
   },
   "file_extension": ".py",
   "mimetype": "text/x-python",
   "name": "python",
   "nbconvert_exporter": "python",
   "pygments_lexer": "ipython3",
   "version": "3.11.5"
  }
 },
 "nbformat": 4,
 "nbformat_minor": 5
}
